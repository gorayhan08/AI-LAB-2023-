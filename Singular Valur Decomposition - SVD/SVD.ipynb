{
 "cells": [
  {
   "cell_type": "code",
   "execution_count": null,
   "id": "1e73c771",
   "metadata": {},
   "outputs": [],
   "source": [
    "#SVD using irish dataset"
   ]
  },
  {
   "cell_type": "code",
   "execution_count": null,
   "id": "282eb21a",
   "metadata": {},
   "outputs": [],
   "source": [
    "import numpy as np\n",
    "from sklearn.datasets import load_iris\n",
    "from sklearn.model_selection import train_test_split\n",
    "from sklearn.decomposition import TruncatedSVD\n",
    "from sklearn.linear_model import LogisticRegression\n",
    "from sklearn.metrics import accuracy_score\n",
    "\n",
    "# Load the Iris dataset\n",
    "iris = load_iris()\n",
    "X = iris.data\n",
    "y = iris.target\n",
    "\n",
    "# Split the dataset into training and testing sets\n",
    "X_train, X_test, y_train, y_test = train_test_split(X, y, test_size=0.2, random_state=42)\n",
    "\n",
    "# Perform SVD for dimensionality reduction\n",
    "svd = TruncatedSVD(n_components=2)  # You can choose the number of components\n",
    "X_train_svd = svd.fit_transform(X_train)\n",
    "X_test_svd = svd.transform(X_test)\n",
    "\n",
    "# Train a logistic regression classifier on the SVD-transformed data\n",
    "classifier = LogisticRegression()\n",
    "classifier.fit(X_train_svd, y_train)\n",
    "\n",
    "# Make predictions using the trained classifier\n",
    "y_pred = classifier.predict(X_test_svd)\n",
    "\n",
    "# Calculate and print the accuracy\n",
    "accuracy = accuracy_score(y_test, y_pred)\n",
    "print(\"Accuracy:\", accuracy)\n"
   ]
  },
  {
   "cell_type": "code",
   "execution_count": null,
   "id": "a1c18703",
   "metadata": {},
   "outputs": [],
   "source": [
    "#SVM using irish dataset"
   ]
  },
  {
   "cell_type": "code",
   "execution_count": null,
   "id": "20019908",
   "metadata": {},
   "outputs": [],
   "source": [
    "import numpy as np\n",
    "from sklearn.datasets import load_iris\n",
    "from sklearn.model_selection import train_test_split\n",
    "from sklearn.decomposition import TruncatedSVD\n",
    "from sklearn.svm import SVC\n",
    "from sklearn.metrics import accuracy_score\n",
    "\n",
    "# Load the Iris dataset\n",
    "iris = load_iris()\n",
    "X = iris.data\n",
    "y = iris.target\n",
    "\n",
    "# Split the dataset into training and testing sets\n",
    "X_train, X_test, y_train, y_test = train_test_split(X, y, test_size=0.2, random_state=42)\n",
    "\n",
    "# Perform SVD for dimensionality reduction\n",
    "svd = TruncatedSVD(n_components=2)  # You can choose the number of components\n",
    "X_train_svd = svd.fit_transform(X_train)\n",
    "X_test_svd = svd.transform(X_test)\n",
    "\n",
    "# Train an SVM classifier on the SVD-transformed data\n",
    "classifier = SVC(kernel='linear')  # You can choose different kernels\n",
    "classifier.fit(X_train_svd, y_train)\n",
    "\n",
    "# Make predictions using the trained classifier\n",
    "y_pred = classifier.predict(X_test_svd)\n",
    "\n",
    "# Calculate and print the accuracy\n",
    "accuracy = accuracy_score(y_test, y_pred)\n",
    "print(\"Accuracy:\", accuracy)\n"
   ]
  }
 ],
 "metadata": {
  "kernelspec": {
   "display_name": "Python 3 (ipykernel)",
   "language": "python",
   "name": "python3"
  },
  "language_info": {
   "codemirror_mode": {
    "name": "ipython",
    "version": 3
   },
   "file_extension": ".py",
   "mimetype": "text/x-python",
   "name": "python",
   "nbconvert_exporter": "python",
   "pygments_lexer": "ipython3",
   "version": "3.10.9"
  }
 },
 "nbformat": 4,
 "nbformat_minor": 5
}
